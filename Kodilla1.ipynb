{
 "cells": [
  {
   "cell_type": "code",
   "execution_count": 39,
   "metadata": {},
   "outputs": [],
   "source": [
    "# Sekcja 1  - inicjalizacja danych \n",
    "\n",
    "rate = [1.3, 1.95, 2.466, 1.6, 2.952, 1.801, 1.34, 1.34, 1.63, 2.326, 2.436, 6.563, 1.283, 1.43, 1.988, 1.61, 1.921, 2.4, 1.495, 4.705]\n",
    "\n",
    "exp = [76.84878, 81.40732, 77.57895, 74.16341, 68.84907, 73.88595, 75.26829, 76.26098, 80.57244, 65.46259,\n",
    "       67.5482, 55.02451, 76.2799, 82.29024, 69.80695, 81.40112, 82.19756, 74.22683, 80.12888, 45.55095]\n",
    "\n",
    "\n"
   ]
  },
  {
   "cell_type": "code",
   "execution_count": 47,
   "metadata": {},
   "outputs": [
    {
     "name": "stdout",
     "output_type": "stream",
     "text": [
      "średnia arytmetyczna to 73.237646\n",
      "mediana to 76.26098\n",
      "dominanta to 74\n"
     ]
    }
   ],
   "source": [
    "# Sekcja 2  - miary położenia \n",
    "\n",
    "mean_exp = sum(exp)/len(exp)\n",
    " \n",
    "print('średnia arytmetyczna to '+  str(mean_exp))\n",
    "\n",
    "\n",
    "exp_sorted = sorted(exp)\n",
    "if len(posortowana_lista )%2 == 0:    \n",
    "    median = (exp_sorted [int(len(exp_sorted )/2)] + exp_sorted [-int(len(exp_sorted )/2)] ) /2\n",
    "else:\n",
    "    median = exp_sorted [int(len(exp_sorted )/2)]\n",
    "\n",
    "print('mediana to '+  str(median))\n",
    "\n",
    "\n",
    "rounded = list(map(round, exp))\n",
    "\n",
    "dominanta = max(set(rounded), key=rounded.count)\n",
    "\n",
    "print('dominanta to '+  str(dominanta))"
   ]
  },
  {
   "cell_type": "code",
   "execution_count": 48,
   "metadata": {},
   "outputs": [
    {
     "name": "stdout",
     "output_type": "stream",
     "text": [
      "wariacja to 83.78440677763399\n",
      "ochylenie standardowe to 9.153382258904847\n"
     ]
    }
   ],
   "source": [
    "# Sekcja 3  - miary rozproszenia\n",
    "\n",
    "sum_of_differences_exp = sum(map(lambda exp: (exp - mean_exp)**2, exp))\n",
    "\n",
    "var_exp = sum_of_differences_exp/ len(exp)\n",
    "\n",
    "print('wariacja to '+  str(var_exp))\n",
    "\n",
    "std_exp = var_exp ** 0.5\n",
    "\n",
    "print('ochylenie standardowe to '+  str(std_exp))\n",
    "\n"
   ]
  },
  {
   "cell_type": "code",
   "execution_count": 51,
   "metadata": {
    "scrolled": true
   },
   "outputs": [
    {
     "name": "stdout",
     "output_type": "stream",
     "text": [
      "kowariancja  to -9.943704446631578\n",
      "Wartość korelacji wynosi-0.8636768550157445, oznacza to, że mamy do czynienia z silną korelacją ujemną. Można przypuszczać, że jest to związane z faktem, że wysoka dzietność występuję głównie w krajach słabniej rozwiniętych, o gorszym dostępie i standardzie służyby zdrowia\n"
     ]
    }
   ],
   "source": [
    "# Sekcja 4 - Kowariancja i korelacja\n",
    "\n",
    "mean_rate = sum(rate)/len(rate)\n",
    "\n",
    "\n",
    "cov = sum(map(lambda x, y: (x - mean_rate) * (y - mean_exp), rate, exp)) / (len(rate) - 1)\n",
    "\n",
    "print('kowariancja  to '+  str(cov))\n",
    "\n",
    "sum_of_differences_rate = sum(map(lambda rate: (rate - mean_rate)**2, rate))\n",
    "\n",
    "var_rate = sum_of_differences_rate/ len(rate)\n",
    "\n",
    "std_rate  = var_rate  ** 0.5\n",
    "\n",
    "\n",
    "cor = cov/(std_exp * std_rate)\n",
    "\n",
    "print('Wartość korelacji wynosi'+  str(cor) +\n",
    "      ', oznacza to, że mamy do czynienia z silną korelacją ujemną. Można przypuszczać, że jest to związane z faktem, że wysoka dzietność występuję głównie w krajach słabniej rozwiniętych, o gorszym dostępie i standardzie służyby zdrowia')\n",
    "\n",
    "\n"
   ]
  },
  {
   "cell_type": "code",
   "execution_count": 54,
   "metadata": {},
   "outputs": [
    {
     "name": "stdout",
     "output_type": "stream",
     "text": [
      "Z 95% pewnością możemy powiedzieć, że średnia długość życia dla całej populacji wynosi między 55.421246 a 91.054046\n"
     ]
    }
   ],
   "source": [
    "dolna = mean_exp - (1.96 * 9.09)\n",
    "gorna = mean_exp + (1.96 * 9.09)\n",
    "\n",
    "print('Z 95% pewnością możemy powiedzieć, że średnia długość życia dla całej populacji wynosi między ' + str(dolna) + ' a ' + str(gorna))"
   ]
  },
  {
   "cell_type": "code",
   "execution_count": null,
   "metadata": {},
   "outputs": [],
   "source": []
  }
 ],
 "metadata": {
  "kernelspec": {
   "display_name": "Python 3",
   "language": "python",
   "name": "python3"
  },
  "language_info": {
   "codemirror_mode": {
    "name": "ipython",
    "version": 3
   },
   "file_extension": ".py",
   "mimetype": "text/x-python",
   "name": "python",
   "nbconvert_exporter": "python",
   "pygments_lexer": "ipython3",
   "version": "3.7.3"
  }
 },
 "nbformat": 4,
 "nbformat_minor": 2
}
